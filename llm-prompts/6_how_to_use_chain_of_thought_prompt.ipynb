{
  "cells": [
    {
      "cell_type": "markdown",
      "metadata": {
        "id": "view-in-github",
        "colab_type": "text"
      },
      "source": [
        "<a href=\"https://colab.research.google.com/github/dwopdm/as3/blob/main/llm-prompts/6_how_to_use_chain_of_thought_prompt.ipynb\" target=\"_parent\"><img src=\"https://colab.research.google.com/assets/colab-badge.svg\" alt=\"Open In Colab\"/></a>"
      ]
    },
    {
      "cell_type": "markdown",
      "id": "0c6a9d1e-35de-4197-9673-5d5bf262ae65",
      "metadata": {
        "id": "0c6a9d1e-35de-4197-9673-5d5bf262ae65"
      },
      "source": [
        "\n",
        "<img src=\"https://github.com/dmatrix/genai-cookbook/blob/main/llm-prompts/images/llm_prompt_req_resp.png?raw=1\" height=\"35%\" width=\"%65\">\n",
        "\n",
        "## Chain of thought (CoT) prompting\n",
        "\n",
        "Chain of thought prompting for LLMs involves providing a sequence of reasoning steps in the prompt to guide the model toward a solution. This technique helps the model to process complex problems by breaking them down into intermediate steps, much like a human would. By mimicking human-like reasoning, chain of thought prompting improves the model's ability to handle tasks that require logic and deduction.\n",
        "\n",
        "[Wei et al.](https://arxiv.org/abs/2201.11903) (2022) introduced chain-of-thought (CoT) prompting, which uses steps to help solve complex problems. By adding few-shot prompts, it works even better for tasks that need careful thinking before answering, giving the model time to \"think.\" This can simply be achieved as prompting or instructing the LLM to \"Let's think through this step and step. Solve each step and explain how to arrived at your answer.\" These instructions eliminate the need to explicitly provide \"few-shot\" examples. This combination helps in tackling more difficult tasks effectively.\n",
        "\n",
        "Let's look at a few of those examples below 👇\n",
        "\n",
        "**Note**:\n",
        "To run any of these relevant notebooks you will need an account on Anyscale Endpoints, Anthropic, or OpenAI, depending on what model you elect, along with the respective environment file. Use the template environment files to create respective `.env` file for either Anyscale Endpoints, Anthropic, or OpenAI."
      ]
    },
    {
      "cell_type": "markdown",
      "id": "11d6037d-ca57-4a8a-95e0-24b773787920",
      "metadata": {
        "id": "11d6037d-ca57-4a8a-95e0-24b773787920"
      },
      "source": [
        "Load the environment"
      ]
    },
    {
      "cell_type": "code",
      "source": [
        "from openai import OpenAI\n",
        "\n",
        "client = OpenAI(api_key=\"sk-10756b0e11834102825b28fd79ba6680\", base_url=\"https://api.deepseek.com\")\n",
        "\n",
        "# Query using DeepSeek\n",
        "response = client.chat.completions.create(\n",
        "    model=\"deepseek-chat\",\n",
        "    messages=[\n",
        "        {\"role\": \"system\", \"content\": \"You are a helpful assistant\"},\n",
        "        {\"role\": \"user\", \"content\": \"What is the capital of France?\"},\n",
        "    ],\n",
        "    stream=False\n",
        ")\n",
        "\n",
        "print(response.choices[0].message.content)"
      ],
      "metadata": {
        "id": "FyZ-gy6UjOc7",
        "outputId": "8d5447f1-73d2-4b88-ce1f-a8dce5cdc9a1",
        "colab": {
          "base_uri": "https://localhost:8080/"
        }
      },
      "id": "FyZ-gy6UjOc7",
      "execution_count": 1,
      "outputs": [
        {
          "output_type": "stream",
          "name": "stdout",
          "text": [
            "The capital of France is Paris.\n"
          ]
        }
      ]
    },
    {
      "cell_type": "code",
      "execution_count": 11,
      "id": "c0d60d02-827d-441f-8cae-023fef3016dc",
      "metadata": {
        "id": "c0d60d02-827d-441f-8cae-023fef3016dc"
      },
      "outputs": [],
      "source": [
        "# Utility function to send and fetch response\n",
        "\n",
        "def get_commpletion(clnt: object,system_content: str, user_content:str) -> str:\n",
        "    chat_completion = client.chat.completions.create(\n",
        "        model=\"deepseek-chat\",\n",
        "    messages=[{\"role\": \"system\", \"content\": system_content},\n",
        "              {\"role\": \"user\", \"content\": user_content}],\n",
        "    temperature = 0.8)\n",
        "\n",
        "    response = chat_completion.choices[0].message.content\n",
        "    return response"
      ]
    },
    {
      "cell_type": "code",
      "execution_count": 3,
      "id": "de684f63-8488-46f4-b2be-b35ed419c28a",
      "metadata": {
        "id": "de684f63-8488-46f4-b2be-b35ed419c28a"
      },
      "outputs": [],
      "source": [
        "system_content = \"\"\"You are supreme repository of knowledge and an engine\n",
        "of reason. You can solve complex problems by breaking into steps, and\n",
        "solve each step to arrive at a solution.\"\"\""
      ]
    },
    {
      "cell_type": "markdown",
      "id": "e35d40de-7b76-4701-8796-f41b1693802c",
      "metadata": {
        "id": "e35d40de-7b76-4701-8796-f41b1693802c"
      },
      "source": [
        "#### Example 1: Chain of Thought"
      ]
    },
    {
      "cell_type": "code",
      "execution_count": 4,
      "id": "c8249833-41fe-4cfa-bf17-89429632c4df",
      "metadata": {
        "id": "c8249833-41fe-4cfa-bf17-89429632c4df"
      },
      "outputs": [],
      "source": [
        "user_content = \"\"\"I'm offered $125.00 an hour contract job for six months.\n",
        "If I work 30 hours a week, how much will I make by the end of my contract.\n",
        "\n",
        "Let's think through this step by step. Solve each step and explain how you arrived\n",
        "at your answer.\"\"\"\n"
      ]
    },
    {
      "cell_type": "code",
      "execution_count": 12,
      "id": "024b19fc-ed06-4d9d-861c-f7abb7d85c94",
      "metadata": {
        "id": "024b19fc-ed06-4d9d-861c-f7abb7d85c94",
        "outputId": "8c01a6ac-d837-4cbe-918d-64a2468bd8ae",
        "colab": {
          "base_uri": "https://localhost:8080/"
        }
      },
      "outputs": [
        {
          "output_type": "stream",
          "name": "stdout",
          "text": [
            "Sure, let's break this down step by step to calculate your total earnings by the end of the six-month contract.\n",
            "\n",
            "### Step 1: Calculate the total number of weeks in six months\n",
            "Six months is approximately half a year. Since there are 52 weeks in a year, we can estimate the number of weeks in six months as follows:\n",
            "\n",
            "\\[\n",
            "\\text{Number of weeks in six months} = \\frac{52}{2} = 26 \\text{ weeks}\n",
            "\\]\n",
            "\n",
            "### Step 2: Calculate the total number of hours worked in a week\n",
            "You mentioned that you will work 30 hours per week. So, we can write:\n",
            "\n",
            "\\[\n",
            "\\text{Hours worked per week} = 30 \\text{ hours}\n",
            "\\]\n",
            "\n",
            "### Step 3: Calculate the total number of hours worked in six months\n",
            "Now, we need to multiply the number of weeks by the number of hours worked per week to find the total number of hours worked in six months:\n",
            "\n",
            "\\[\n",
            "\\text{Total hours worked in six months} = \\text{Number of weeks} \\times \\text{Hours worked per week}\n",
            "\\]\n",
            "\\[\n",
            "\\text{Total hours worked in six months} = 26 \\times 30 = 780 \\text{ hours}\n",
            "\\]\n",
            "\n",
            "### Step 4: Calculate the total earnings\n",
            "Finally, we multiply the total number of hours worked by your hourly rate to find your total earnings:\n",
            "\n",
            "\\[\n",
            "\\text{Total earnings} = \\text{Total hours worked} \\times \\text{Hourly rate}\n",
            "\\]\n",
            "\\[\n",
            "\\text{Total earnings} = 780 \\times 125 = 97,500 \\text{ dollars}\n",
            "\\]\n",
            "\n",
            "So, by the end of your six-month contract, you will make **$97,500**.\n",
            "\n"
          ]
        }
      ],
      "source": [
        "response = get_commpletion(client, system_content, user_content)\n",
        "print(f\"{response}\\n\")"
      ]
    },
    {
      "cell_type": "markdown",
      "id": "806e445c-74a5-445a-a9dc-ffb4a82f0d78",
      "metadata": {
        "id": "806e445c-74a5-445a-a9dc-ffb4a82f0d78"
      },
      "source": [
        "#### Example 2: Chain of Thought"
      ]
    },
    {
      "cell_type": "code",
      "execution_count": 13,
      "id": "31c61f40-1a12-421e-90b4-30f73b2256e5",
      "metadata": {
        "id": "31c61f40-1a12-421e-90b4-30f73b2256e5"
      },
      "outputs": [],
      "source": [
        "user_content = \"\"\"At the recent holiday party, I got a coupon to join a health club\n",
        "for wellness. If I joined before December 31, 2023 I get 35% discount on montly subscritpion fees\n",
        "of $55.00 for one year, and the first three months' fees payments of $55.00 will be waived.\n",
        "\n",
        "The monthly payments for the health club subscription is $55.00\n",
        "\n",
        "If I joined in January 2024, I get 25%, and only one month's fee is waived.\n",
        "\n",
        "Compute the best scenarios for saving costs for a one year subscription.\n",
        "\n",
        "Let's think through this step by step. Solve each step and explain how you arrived\n",
        "at your answer.\n",
        "\"\"\""
      ]
    },
    {
      "cell_type": "code",
      "execution_count": 14,
      "id": "4f99df1b-69de-40d4-8a28-d59404fcd6b1",
      "metadata": {
        "id": "4f99df1b-69de-40d4-8a28-d59404fcd6b1",
        "outputId": "6d0de10b-bb23-478b-a691-959cbf646102",
        "colab": {
          "base_uri": "https://localhost:8080/"
        }
      },
      "outputs": [
        {
          "output_type": "stream",
          "name": "stdout",
          "text": [
            "Sure, let's break down the problem step by step to determine the best scenario for saving costs on a one-year health club subscription.\n",
            "\n",
            "### Step 1: Calculate the Total Cost for Joining Before December 31, 2023\n",
            "\n",
            "1. **Monthly Subscription Fee**: $55.00\n",
            "2. **Discount**: 35%\n",
            "3. **Months with Waived Fees**: First three months\n",
            "\n",
            "#### Calculation:\n",
            "- **Monthly Fee After Discount**: \n",
            "  \\[\n",
            "  55.00 \\times (1 - 0.35) = 55.00 \\times 0.65 = 35.75\n",
            "  \\]\n",
            "- **Total Months**: 12\n",
            "- **Months with Waived Fees**: 3\n",
            "- **Months to Pay**: \n",
            "  \\[\n",
            "  12 - 3 = 9\n",
            "  \\]\n",
            "- **Total Cost**: \n",
            "  \\[\n",
            "  35.75 \\times 9 = 321.75\n",
            "  \\]\n",
            "\n",
            "So, the total cost for joining before December 31, 2023, is **$321.75**.\n",
            "\n",
            "### Step 2: Calculate the Total Cost for Joining in January 2024\n",
            "\n",
            "1. **Monthly Subscription Fee**: $55.00\n",
            "2. **Discount**: 25%\n",
            "3. **Months with Waived Fees**: First month\n",
            "\n",
            "#### Calculation:\n",
            "- **Monthly Fee After Discount**: \n",
            "  \\[\n",
            "  55.00 \\times (1 - 0.25) = 55.00 \\times 0.75 = 41.25\n",
            "  \\]\n",
            "- **Total Months**: 12\n",
            "- **Months with Waived Fees**: 1\n",
            "- **Months to Pay**: \n",
            "  \\[\n",
            "  12 - 1 = 11\n",
            "  \\]\n",
            "- **Total Cost**: \n",
            "  \\[\n",
            "  41.25 \\times 11 = 453.75\n",
            "  \\]\n",
            "\n",
            "So, the total cost for joining in January 2024 is **$453.75**.\n",
            "\n",
            "### Step 3: Compare the Two Scenarios\n",
            "\n",
            "- **Cost for Joining Before December 31, 2023**: $321.75\n",
            "- **Cost for Joining in January 2024**: $453.75\n",
            "\n",
            "### Conclusion:\n",
            "\n",
            "The best scenario for saving costs is to join the health club before December 31, 2023. This option provides a total cost of **$321.75**, which is significantly lower than the **$453.75** cost if you join in January 2024.\n",
            "\n"
          ]
        }
      ],
      "source": [
        "response = get_commpletion(client,system_content, user_content)\n",
        "print(f\"{response}\\n\")"
      ]
    },
    {
      "cell_type": "markdown",
      "id": "d36cd7c3-c299-4f79-9fb6-6d4306ad1059",
      "metadata": {
        "id": "d36cd7c3-c299-4f79-9fb6-6d4306ad1059"
      },
      "source": [
        "#### Example 3: Chain of Thought"
      ]
    },
    {
      "cell_type": "code",
      "execution_count": null,
      "id": "c8371f10-7ae3-4ad9-82b2-bd3bd5d927bd",
      "metadata": {
        "id": "c8371f10-7ae3-4ad9-82b2-bd3bd5d927bd"
      },
      "outputs": [],
      "source": [
        "user_content = \"\"\"Three girls, Emmy, Kasima, and Lina, had a fresh lemon juice booth stand\n",
        "at the local community fair.\n",
        "\n",
        "Emmy had 45 medium glasses of lemmon. She sold 43 glasses each at $1.25 per glass.\n",
        "\n",
        "Kasima had 50 small glasses, and she sold all of them each at $1.15 per glass.\n",
        "\n",
        "And Lina had 25 large glasses and she sold only 11 glasses but at $1.75 per glass.\n",
        "\n",
        "Of all the three girls, who made most money, and how many glasses each girl sold.\n",
        "How many unsold glasses were left for each girl.\n",
        "\n",
        "And finally, looking at all the numbers, which girl benefited most. That is, which\n",
        "girl cleared her stock.\n",
        "\n",
        "Let's think through this step and step. Solve each step and explain how you arrived\n",
        "at your answer\"\"\""
      ]
    },
    {
      "cell_type": "code",
      "execution_count": null,
      "id": "456f8357-b457-4dfc-937f-1f88681fc35f",
      "metadata": {
        "id": "456f8357-b457-4dfc-937f-1f88681fc35f",
        "outputId": "1c8d5444-2219-41da-b168-6d3354fc9f6a"
      },
      "outputs": [
        {
          "name": "stdout",
          "output_type": "stream",
          "text": [
            "Sure, we can calculate the earnings for each girl, determine who made the most money, the number of glasses each sold, the number of unsold glasses, and finally, discuss who benefited most in terms of clearing their stock. Let's tackle this step by step.\n",
            "\n",
            "1. **Emmy's Earnings:**\n",
            "Emmy sold 43 out of her 45 medium glasses of lemon juice.\n",
            "- Each glass was sold at $1.25.\n",
            "- Her earnings would be: 43 glasses * $1.25/glass = $53.75.\n",
            "\n",
            "Emmy has 45 - 43 = 2 unsold glasses left.\n",
            "\n",
            "2. **Kasima's Earnings:**\n",
            "Kasima sold all of her 50 small glasses.\n",
            "- Each glass was sold at $1.15.\n",
            "- Her earnings would be: 50 glasses * $1.15/glass = $57.50.\n",
            "\n",
            "Kasima has 50 - 50 = 0 unsold glasses left.\n",
            "\n",
            "3. **Lina's Earnings:**\n",
            "Lina sold 11 out of her 25 large glasses.\n",
            "- Each glass was sold at $1.75.\n",
            "- Her earnings would be: 11 glasses * $1.75/glass = $19.25.\n",
            "\n",
            "Lina has 25 - 11 = 14 unsold glasses left.\n",
            "\n",
            "Now, let's compare their earnings to see who made the most money:\n",
            "- Emmy earned $53.75.\n",
            "- Kasima earned $57.50.\n",
            "- Lina earned $19.25.\n",
            "\n",
            "**Kasima** made the most money at the fair with $57.50.\n",
            "\n",
            "Next, to determine which girl benefited most in terms of clearing their stock, we look at the number of unsold glasses:\n",
            "- Emmy had 2 unsold glasses.\n",
            "- Kasima had 0 unsold glasses.\n",
            "- Lina had 14 unsold glasses.\n",
            "\n",
            "**Kasima** clearly benefited the most in terms of clearing her stock, as she sold all of her glasses and had none left unsold.\n",
            "\n"
          ]
        }
      ],
      "source": [
        "response = get_commpletion(client, MODEL, system_content, user_content)\n",
        "print(f\"{response}\\n\")"
      ]
    },
    {
      "cell_type": "markdown",
      "id": "db733e66-6bc4-4ca0-9d47-d6bc54a511fa",
      "metadata": {
        "id": "db733e66-6bc4-4ca0-9d47-d6bc54a511fa"
      },
      "source": [
        "## All this is amazing! 😜 Feel the wizardy in Chain of Thought reasoning 🧙‍♀️"
      ]
    }
  ],
  "metadata": {
    "kernelspec": {
      "display_name": "Python 3 (ipykernel)",
      "language": "python",
      "name": "python3"
    },
    "language_info": {
      "codemirror_mode": {
        "name": "ipython",
        "version": 3
      },
      "file_extension": ".py",
      "mimetype": "text/x-python",
      "name": "python",
      "nbconvert_exporter": "python",
      "pygments_lexer": "ipython3",
      "version": "3.10.13"
    },
    "colab": {
      "provenance": [],
      "include_colab_link": true
    }
  },
  "nbformat": 4,
  "nbformat_minor": 5
}